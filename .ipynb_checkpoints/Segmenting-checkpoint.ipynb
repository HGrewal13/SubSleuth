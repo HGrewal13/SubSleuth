{
 "cells": [
  {
   "cell_type": "code",
   "execution_count": 1,
   "id": "901f9fdc-c248-430d-84cf-fac23cde6be4",
   "metadata": {},
   "outputs": [],
   "source": [
    "import pandas as pd\n",
    "import matplotlib.pyplot as plt"
   ]
  },
  {
   "cell_type": "code",
   "execution_count": 3,
   "id": "64e85a97-5f80-48cb-ad5c-7eb5a79c708d",
   "metadata": {},
   "outputs": [
    {
     "data": {
      "text/html": [
       "<div>\n",
       "<style scoped>\n",
       "    .dataframe tbody tr th:only-of-type {\n",
       "        vertical-align: middle;\n",
       "    }\n",
       "\n",
       "    .dataframe tbody tr th {\n",
       "        vertical-align: top;\n",
       "    }\n",
       "\n",
       "    .dataframe thead th {\n",
       "        text-align: right;\n",
       "    }\n",
       "</style>\n",
       "<table border=\"1\" class=\"dataframe\">\n",
       "  <thead>\n",
       "    <tr style=\"text-align: right;\">\n",
       "      <th></th>\n",
       "      <th>Customer ID</th>\n",
       "      <th>Age</th>\n",
       "      <th>Gender</th>\n",
       "      <th>Item Purchased</th>\n",
       "      <th>Category</th>\n",
       "      <th>Purchase Amount (USD)</th>\n",
       "      <th>Season</th>\n",
       "      <th>Review Rating</th>\n",
       "      <th>Subscription Status</th>\n",
       "      <th>Discount Applied</th>\n",
       "      <th>Promo Code Used</th>\n",
       "      <th>Previous Purchases</th>\n",
       "      <th>Frequency of Purchases</th>\n",
       "      <th>Frequency Value</th>\n",
       "    </tr>\n",
       "  </thead>\n",
       "  <tbody>\n",
       "    <tr>\n",
       "      <th>0</th>\n",
       "      <td>1</td>\n",
       "      <td>55</td>\n",
       "      <td>Male</td>\n",
       "      <td>Blouse</td>\n",
       "      <td>Clothing</td>\n",
       "      <td>53</td>\n",
       "      <td>Winter</td>\n",
       "      <td>3.1</td>\n",
       "      <td>1</td>\n",
       "      <td>1</td>\n",
       "      <td>1</td>\n",
       "      <td>14</td>\n",
       "      <td>Bi-Weekly</td>\n",
       "      <td>4</td>\n",
       "    </tr>\n",
       "    <tr>\n",
       "      <th>1</th>\n",
       "      <td>2</td>\n",
       "      <td>19</td>\n",
       "      <td>Male</td>\n",
       "      <td>Sweater</td>\n",
       "      <td>Clothing</td>\n",
       "      <td>64</td>\n",
       "      <td>Winter</td>\n",
       "      <td>3.1</td>\n",
       "      <td>1</td>\n",
       "      <td>1</td>\n",
       "      <td>1</td>\n",
       "      <td>2</td>\n",
       "      <td>Bi-Weekly</td>\n",
       "      <td>4</td>\n",
       "    </tr>\n",
       "    <tr>\n",
       "      <th>2</th>\n",
       "      <td>3</td>\n",
       "      <td>50</td>\n",
       "      <td>Male</td>\n",
       "      <td>Jeans</td>\n",
       "      <td>Clothing</td>\n",
       "      <td>73</td>\n",
       "      <td>Spring</td>\n",
       "      <td>3.1</td>\n",
       "      <td>1</td>\n",
       "      <td>1</td>\n",
       "      <td>1</td>\n",
       "      <td>23</td>\n",
       "      <td>Weekly</td>\n",
       "      <td>5</td>\n",
       "    </tr>\n",
       "    <tr>\n",
       "      <th>3</th>\n",
       "      <td>4</td>\n",
       "      <td>21</td>\n",
       "      <td>Male</td>\n",
       "      <td>Sandals</td>\n",
       "      <td>Footwear</td>\n",
       "      <td>90</td>\n",
       "      <td>Spring</td>\n",
       "      <td>3.5</td>\n",
       "      <td>1</td>\n",
       "      <td>1</td>\n",
       "      <td>1</td>\n",
       "      <td>49</td>\n",
       "      <td>Weekly</td>\n",
       "      <td>5</td>\n",
       "    </tr>\n",
       "    <tr>\n",
       "      <th>4</th>\n",
       "      <td>5</td>\n",
       "      <td>45</td>\n",
       "      <td>Male</td>\n",
       "      <td>Blouse</td>\n",
       "      <td>Clothing</td>\n",
       "      <td>49</td>\n",
       "      <td>Spring</td>\n",
       "      <td>2.7</td>\n",
       "      <td>1</td>\n",
       "      <td>1</td>\n",
       "      <td>1</td>\n",
       "      <td>31</td>\n",
       "      <td>Annually</td>\n",
       "      <td>1</td>\n",
       "    </tr>\n",
       "  </tbody>\n",
       "</table>\n",
       "</div>"
      ],
      "text/plain": [
       "   Customer ID  Age Gender Item Purchased  Category  Purchase Amount (USD)  \\\n",
       "0            1   55   Male         Blouse  Clothing                     53   \n",
       "1            2   19   Male        Sweater  Clothing                     64   \n",
       "2            3   50   Male          Jeans  Clothing                     73   \n",
       "3            4   21   Male        Sandals  Footwear                     90   \n",
       "4            5   45   Male         Blouse  Clothing                     49   \n",
       "\n",
       "   Season  Review Rating  Subscription Status  Discount Applied  \\\n",
       "0  Winter            3.1                    1                 1   \n",
       "1  Winter            3.1                    1                 1   \n",
       "2  Spring            3.1                    1                 1   \n",
       "3  Spring            3.5                    1                 1   \n",
       "4  Spring            2.7                    1                 1   \n",
       "\n",
       "   Promo Code Used  Previous Purchases Frequency of Purchases  Frequency Value  \n",
       "0                1                  14              Bi-Weekly                4  \n",
       "1                1                   2              Bi-Weekly                4  \n",
       "2                1                  23                 Weekly                5  \n",
       "3                1                  49                 Weekly                5  \n",
       "4                1                  31               Annually                1  "
      ]
     },
     "execution_count": 3,
     "metadata": {},
     "output_type": "execute_result"
    }
   ],
   "source": [
    "df = pd.read_csv(\"./shopping_behavior_cleaned.csv\")\n",
    "df.head()"
   ]
  },
  {
   "cell_type": "code",
   "execution_count": 9,
   "id": "05dc9260-295e-492c-b615-a4e9237c3f1d",
   "metadata": {},
   "outputs": [
    {
     "name": "stdout",
     "output_type": "stream",
     "text": [
      "           Has Subscription  No Subscription  % With Subscription\n",
      "Age Group                                                        \n",
      "18-25                   150              421                 26.3\n",
      "26-35                   196              546                 26.4\n",
      "36-45                   192              537                 26.3\n",
      "46-55                   229              524                 30.4\n",
      "56-65                   198              552                 26.4\n",
      "66+                      88              267                 24.8\n"
     ]
    },
    {
     "name": "stderr",
     "output_type": "stream",
     "text": [
      "C:\\Users\\Harry\\AppData\\Local\\Temp\\ipykernel_23400\\1305920870.py:9: FutureWarning: The default of observed=False is deprecated and will be changed to True in a future version of pandas. Pass observed=False to retain current behavior or observed=True to adopt the future default and silence this warning.\n",
      "  age_group_counts = df.groupby(['Age Group', 'Subscription Status']).size().unstack(fill_value=0)\n"
     ]
    }
   ],
   "source": [
    "# Define age bins and labels\n",
    "age_bins = [17, 25, 35, 45, 55, 65, 100]\n",
    "age_labels = ['18-25', '26-35', '36-45', '46-55', '56-65', '66+']\n",
    "\n",
    "# Create a new column with binned age groups\n",
    "df['Age Group'] = pd.cut(df['Age'], bins=age_bins, labels=age_labels)\n",
    "\n",
    "# Group by Age Group and Subscription Status\n",
    "age_group_counts = df.groupby(['Age Group', 'Subscription Status']).size().unstack(fill_value=0)\n",
    "age_group_counts = age_group_counts[[1, 0]]  # 1 = Has Subscription, 0 = No Subscription\n",
    "\n",
    "# Rename columns for clarity\n",
    "age_group_counts.columns = ['Has Subscription', 'No Subscription']\n",
    "\n",
    "# Add a percentage column\n",
    "age_group_counts['% With Subscription'] = (\n",
    "    age_group_counts['Has Subscription'] / \n",
    "    (age_group_counts['Has Subscription'] + age_group_counts['No Subscription']) * 100\n",
    ").round(1)\n",
    "\n",
    "# Display the result\n",
    "print(age_group_counts)"
   ]
  },
  {
   "cell_type": "code",
   "execution_count": 15,
   "id": "7ee93ceb-dcba-4442-9443-f1f2c4b03662",
   "metadata": {},
   "outputs": [],
   "source": [
    "# Ages 46-55 have the most subscriptions"
   ]
  },
  {
   "cell_type": "code",
   "execution_count": 11,
   "id": "0d885b87-7e6c-47a6-9fe3-4fa96d3d6776",
   "metadata": {},
   "outputs": [],
   "source": [
    "# See Money spent by age group"
   ]
  },
  {
   "cell_type": "code",
   "execution_count": 13,
   "id": "92277be5-d9be-47a1-bb0c-7fd7af95984a",
   "metadata": {},
   "outputs": [
    {
     "name": "stdout",
     "output_type": "stream",
     "text": [
      "Age Group\n",
      "18-25    34630\n",
      "26-35    44342\n",
      "36-45    43234\n",
      "46-55    45619\n",
      "56-65    44352\n",
      "66+      20904\n",
      "Name: Purchase Amount (USD), dtype: int64\n"
     ]
    },
    {
     "name": "stderr",
     "output_type": "stream",
     "text": [
      "C:\\Users\\Harry\\AppData\\Local\\Temp\\ipykernel_23400\\1217253049.py:4: FutureWarning: The default of observed=False is deprecated and will be changed to True in a future version of pandas. Pass observed=False to retain current behavior or observed=True to adopt the future default and silence this warning.\n",
      "  age_group_spending = df.groupby('Age Group')['Purchase Amount (USD)'].sum()\n"
     ]
    }
   ],
   "source": [
    "\n",
    "df['Age Group'] = pd.cut(df['Age'], bins=age_bins, labels=age_labels)\n",
    "\n",
    "# Group by Age Group and sum purchase amounts\n",
    "age_group_spending = df.groupby('Age Group')['Purchase Amount (USD)'].sum()\n",
    "\n",
    "# Display the result\n",
    "print(age_group_spending)"
   ]
  },
  {
   "cell_type": "code",
   "execution_count": 21,
   "id": "4352dbf2-07eb-459d-9579-2a6fb11432ee",
   "metadata": {},
   "outputs": [
    {
     "data": {
      "text/plain": [
       "Age Group\n",
       "46-55    45619\n",
       "56-65    44352\n",
       "26-35    44342\n",
       "36-45    43234\n",
       "18-25    34630\n",
       "66+      20904\n",
       "Name: Purchase Amount (USD), dtype: int64"
      ]
     },
     "execution_count": 21,
     "metadata": {},
     "output_type": "execute_result"
    }
   ],
   "source": [
    "# Sort by what group spent the most\n",
    "age_group_spending_sorted = age_group_spending.sort_values(ascending=False)\n",
    "age_group_spending_sorted"
   ]
  },
  {
   "cell_type": "code",
   "execution_count": 23,
   "id": "46add17f-3b9f-4467-a921-098155652f43",
   "metadata": {},
   "outputs": [],
   "source": [
    "# Ages 46-55 spend the most money"
   ]
  },
  {
   "cell_type": "markdown",
   "id": "dd903175-461a-4446-b206-4258fb241c8e",
   "metadata": {},
   "source": [
    "Frequency of purchases per age group"
   ]
  },
  {
   "cell_type": "code",
   "execution_count": 26,
   "id": "f2c59e3f-e8c8-4c4c-b25c-1a94cc260841",
   "metadata": {},
   "outputs": [
    {
     "name": "stdout",
     "output_type": "stream",
     "text": [
      "Frequency of Purchases  Annually  Bi-Weekly  Monthly  Quarterly  Weekly\n",
      "Age Group                                                              \n",
      "18-25                         94        163       71        172      71\n",
      "26-35                         87        226      109        222      98\n",
      "36-45                        115        195      111        201     107\n",
      "46-55                         89        218      110        228     108\n",
      "56-65                        137        199       98        208     108\n",
      "66+                           50         88       54        116      47\n"
     ]
    },
    {
     "name": "stderr",
     "output_type": "stream",
     "text": [
      "C:\\Users\\Harry\\AppData\\Local\\Temp\\ipykernel_23400\\2420033191.py:4: FutureWarning: The default of observed=False is deprecated and will be changed to True in a future version of pandas. Pass observed=False to retain current behavior or observed=True to adopt the future default and silence this warning.\n",
      "  freq_by_age_group = df.groupby(['Age Group', 'Frequency of Purchases']).size().unstack(fill_value=0)\n"
     ]
    }
   ],
   "source": [
    "df['Age Group'] = pd.cut(df['Age'], bins=age_bins, labels=age_labels)\n",
    "\n",
    "# Group by Age Group and Frequency of Purchases, then count\n",
    "freq_by_age_group = df.groupby(['Age Group', 'Frequency of Purchases']).size().unstack(fill_value=0)\n",
    "\n",
    "print(freq_by_age_group)"
   ]
  },
  {
   "cell_type": "code",
   "execution_count": 28,
   "id": "8c78139c-1e28-448e-ab2b-e19175e3cc28",
   "metadata": {},
   "outputs": [],
   "source": [
    "# Get all info per age group"
   ]
  },
  {
   "cell_type": "code",
   "execution_count": 30,
   "id": "1f555838-a5fb-460f-ae5f-5198c2104595",
   "metadata": {},
   "outputs": [
    {
     "name": "stdout",
     "output_type": "stream",
     "text": [
      "           Num_Users  Total_Spent  Avg_Spent  Subscribed  % With Subscription  \\\n",
      "Age Group                                                                       \n",
      "18-25            571        34630      60.65         150                 26.3   \n",
      "26-35            742        44342      59.76         196                 26.4   \n",
      "36-45            729        43234      59.31         192                 26.3   \n",
      "46-55            753        45619      60.58         229                 30.4   \n",
      "56-65            750        44352      59.14         198                 26.4   \n",
      "66+              355        20904      58.88          88                 24.8   \n",
      "\n",
      "           Avg_Frequency_Value Most_Common_Frequency  \n",
      "Age Group                                             \n",
      "18-25                     2.90             Quarterly  \n",
      "26-35                     3.04             Bi-Weekly  \n",
      "36-45                     2.97             Quarterly  \n",
      "46-55                     3.04             Quarterly  \n",
      "56-65                     2.91             Quarterly  \n",
      "66+                       2.90             Quarterly  \n"
     ]
    },
    {
     "name": "stderr",
     "output_type": "stream",
     "text": [
      "C:\\Users\\Harry\\AppData\\Local\\Temp\\ipykernel_23400\\1236936557.py:5: FutureWarning: The default of observed=False is deprecated and will be changed to True in a future version of pandas. Pass observed=False to retain current behavior or observed=True to adopt the future default and silence this warning.\n",
      "  summary = df.groupby('Age Group').agg(\n"
     ]
    }
   ],
   "source": [
    "# Ensure Age Group column exists\n",
    "df['Age Group'] = pd.cut(df['Age'], bins=age_bins, labels=age_labels)\n",
    "\n",
    "# Start building summary by Age Group\n",
    "summary = df.groupby('Age Group').agg(\n",
    "    Num_Users = ('Customer ID', 'count'),\n",
    "    Total_Spent = ('Purchase Amount (USD)', 'sum'),\n",
    "    Avg_Spent = ('Purchase Amount (USD)', 'mean'),\n",
    "    Avg_Frequency_Value = ('Frequency Value', 'mean'),\n",
    "    Most_Common_Frequency = ('Frequency of Purchases', lambda x: x.mode().iloc[0]),\n",
    "    Subscribed = ('Subscription Status', 'sum')\n",
    ")\n",
    "\n",
    "# Add % with subscription\n",
    "summary['% With Subscription'] = (summary['Subscribed'] / summary['Num_Users'] * 100).round(1)\n",
    "\n",
    "# Rearranging for clarity\n",
    "summary = summary[[\n",
    "    'Num_Users', 'Total_Spent', 'Avg_Spent',\n",
    "    'Subscribed', '% With Subscription',\n",
    "    'Avg_Frequency_Value', 'Most_Common_Frequency'\n",
    "]]\n",
    "\n",
    "# Optional: round monetary and average columns\n",
    "summary['Total_Spent'] = summary['Total_Spent'].round(2)\n",
    "summary['Avg_Spent'] = summary['Avg_Spent'].round(2)\n",
    "summary['Avg_Frequency_Value'] = summary['Avg_Frequency_Value'].round(2)\n",
    "\n",
    "print(summary)\n"
   ]
  },
  {
   "cell_type": "code",
   "execution_count": null,
   "id": "7d193d6e-72ae-4431-8363-79f1d2e0e48b",
   "metadata": {},
   "outputs": [],
   "source": []
  }
 ],
 "metadata": {
  "kernelspec": {
   "display_name": "Python [conda env:base] *",
   "language": "python",
   "name": "conda-base-py"
  },
  "language_info": {
   "codemirror_mode": {
    "name": "ipython",
    "version": 3
   },
   "file_extension": ".py",
   "mimetype": "text/x-python",
   "name": "python",
   "nbconvert_exporter": "python",
   "pygments_lexer": "ipython3",
   "version": "3.12.3"
  }
 },
 "nbformat": 4,
 "nbformat_minor": 5
}
